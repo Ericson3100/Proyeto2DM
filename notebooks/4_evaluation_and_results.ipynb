{
 "cells": [
  {
   "cell_type": "markdown",
   "metadata": {},
   "source": [
    "Conclusiones \n",
    "\n",
    "Las relaciones generadas a través del Feature Engineering fueron bastante útiles para mejorar el rendimiento del modelo. Se logró obtener un RMSE de 0.45, un R² de 0.61 y un MAE de 0.34, lo que indica una capacidad razonable del modelo para predecir los precios de AirBnB.\n",
    "\n",
    "En cuanto al MSE, se observa una variación de 0.45 con respecto al precio base. Es importante recordar que la métrica inicial era un Log_price, lo que implica que la diferencia en escala logarítmica equivale aproximadamente a 2.81 unidades monetarias en base 10. Esta diferencia no es demasiado alta y sugiere que el modelo ofrece una buena aproximación para la predicción de precios.\n",
    "\n",
    "Respecto al MAE, el valor de 0.34 indica que, en promedio, el error absoluto en la predicción del log-price es relativamente bajo, lo que refuerza la estabilidad del modelo. Aunque siempre hay margen de mejora, los resultados obtenidos reflejan que el enfoque aplicado fue efectivo y puede ser optimizado aún más con técnicas adicionales de selección de características y ajuste de hiperparámetros."
   ]
  },
  {
   "cell_type": "markdown",
   "metadata": {},
   "source": [
    "Aplicaciones y Mejoras Futuras\n",
    "\n",
    "Las predicciones del modelo pueden utilizarse para ayudar a los anfitriones de AirBnB a fijar precios competitivos basados en características relevantes, como la ubicación, los servicios ofrecidos y la temporada. Además, se pueden integrar en herramientas de análisis de mercado que permitan evaluar tendencias de precios y maximizar ingresos, así como funcionalidades para sugerir precios en base a los datos que incluyan los anfitriones o recomendar tipos de viviendas para los clientes según un precio estimado o presupuesto.\n",
    "\n",
    "Para mejorar la precisión del modelo, se podrían incorporar datos adicionales, como:\n",
    "\n",
    "Tendencias temporales: Precios históricos en diferentes épocas del año para capturar estacionalidad. Eventos según la temporada en diferentes ubicaciones (carnaval de Brasil).\n",
    "Reseñas y calificaciones: Factores cualitativos como la reputación del anfitrión y la satisfacción de los huéspedes. Se podría obtener analizando palabras claves de las reseñas.\n",
    "Competencia en la zona: Número de alojamientos similares disponibles en un radio determinado.\n",
    "Eventos locales: La demanda de hospedaje puede variar por conciertos, conferencias u otras actividades. Se podría obtener esta data haciendo web scrapping de una fecha especcífica de búsqueda de alojamiento"
   ]
  }
 ],
 "metadata": {
  "language_info": {
   "name": "python"
  }
 },
 "nbformat": 4,
 "nbformat_minor": 2
}
